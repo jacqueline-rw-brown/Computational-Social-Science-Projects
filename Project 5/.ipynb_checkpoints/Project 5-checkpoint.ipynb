{
 "cells": [
  {
   "cell_type": "markdown",
   "metadata": {},
   "source": [
    "## [Computational Social Science] Project 5: Natural Language Processing"
   ]
  },
  {
   "cell_type": "markdown",
   "metadata": {},
   "source": [
    "In this project, you will use natural language processing techniques to explore a dataset containing tweets from members of the 116th United States Congress that met from January 3, 2019 to January 2, 2021. The dataset has also been cleaned to contain information about each legislator. Concretely, you will do the following:\n",
    "\n",
    "* Preprocess the text of legislators' tweets\n",
    "* Conduct Exploratory Data Analysis of the text\n",
    "* Use sentiment analysis to explore differences between legislators' tweets\n",
    "* Featurize text with manual feature engineering, frequency-based, and vector-based techniques\n",
    "* Predict legislators' political parties and whether they are a Senator or Representative\n",
    "\n",
    "You will explore two questions that relate to two central findings in political science and examine how they relate to the text of legislators' tweets. First, political scientists have argued that U.S. politics is currently highly polarized relative to other periods in American history, but also that the polarization is asymmetric. Historically, there were several conservative Democrats (i.e. \"blue dog Democrats\") and liberal Republicans (i.e. \"Rockefeller Republicans\"), as measured by popular measurement tools like [DW-NOMINATE](https://en.wikipedia.org/wiki/NOMINATE_(scaling_method)#:~:text=DW\\%2DNOMINATE\\%20scores\\%20have\\%20been,in\\%20the\\%20liberal\\%2Dconservative\\%20scale.). However, in the last few years, there are few if any examples of any Democrat in Congress being further to the right than any Republican and vice versa. At the same time, scholars have argued that this polarization is mostly a function of the Republican party moving further right than the Democratic party has moved left. **Does this sort of asymmetric polarization show up in how politicians communicate to their constituents through tweets?**\n",
    "\n",
    "Second, the U.S. Congress is a bicameral legislature, and there has long been debate about partisanship in the Senate versus the House. The House of Representatives is apportioned by population and all members serve two year terms. In the Senate, each state receives two Senators and each Senator serves a term of six years. For a variety of reasons (smaller chamber size, more insulation from the voters, rules and norms like the filibuster, etc.), the Senate has been argued to be the \"cooling saucer\" of Congress in that it is more bipartisan and moderate than the House. **Does the theory that the Senate is more moderate have support in Senators' tweets?**\n",
    "\n",
    "**Note**: See the project handout for more details on caveats and the data dictionary."
   ]
  },
  {
   "cell_type": "code",
   "execution_count": 1,
   "metadata": {},
   "outputs": [],
   "source": [
    "# pandas and numpy\n",
    "import pandas as pd\n",
    "import numpy as numpy\n",
    "\n",
    "# punctuation, stop words and English language model\n",
    "from string import punctuation\n",
    "from spacy.lang.en.stop_words import STOP_WORDS\n",
    "import en_core_web_sm\n",
    "nlp = en_core_web_sm.load()\n",
    "\n",
    "# textblob\n",
    "from textblob import TextBlob\n",
    "\n",
    "# countvectorizer, tfidfvectorizer\n",
    "from sklearn.feature_extraction.text import CountVectorizer, TfidfVectorizer\n",
    "\n",
    "# gensim\n",
    "import gensim\n",
    "from gensim import models\n",
    "\n",
    "# plotting\n",
    "import matplotlib.pyplot as plt\n",
    "import seaborn as sns\n",
    "%matplotlib inline"
   ]
  },
  {
   "cell_type": "code",
   "execution_count": 22,
   "metadata": {},
   "outputs": [
    {
     "data": {
      "text/html": [
       "<div>\n",
       "<style scoped>\n",
       "    .dataframe tbody tr th:only-of-type {\n",
       "        vertical-align: middle;\n",
       "    }\n",
       "\n",
       "    .dataframe tbody tr th {\n",
       "        vertical-align: top;\n",
       "    }\n",
       "\n",
       "    .dataframe thead th {\n",
       "        text-align: right;\n",
       "    }\n",
       "</style>\n",
       "<table border=\"1\" class=\"dataframe\">\n",
       "  <thead>\n",
       "    <tr style=\"text-align: right;\">\n",
       "      <th></th>\n",
       "      <th>tweet_id</th>\n",
       "      <th>screen_name</th>\n",
       "      <th>datetime</th>\n",
       "      <th>text</th>\n",
       "      <th>name_wikipedia</th>\n",
       "      <th>position</th>\n",
       "      <th>joined_congress_date</th>\n",
       "      <th>birthday</th>\n",
       "      <th>gender</th>\n",
       "      <th>state</th>\n",
       "      <th>district_number</th>\n",
       "      <th>party</th>\n",
       "      <th>trump_2016_state_share</th>\n",
       "      <th>clinton_2016_state_share</th>\n",
       "      <th>obama_2012_state_share</th>\n",
       "      <th>romney_2012_state_share</th>\n",
       "    </tr>\n",
       "  </thead>\n",
       "  <tbody>\n",
       "    <tr>\n",
       "      <th>36257</th>\n",
       "      <td>1.276160e+18</td>\n",
       "      <td>RepDavid</td>\n",
       "      <td>2020-06-25T10:22:13-04:00</td>\n",
       "      <td>Before adopting Olivia, we spent a great amoun...</td>\n",
       "      <td>David Schweikert</td>\n",
       "      <td>Rep</td>\n",
       "      <td>3-Jan-13</td>\n",
       "      <td>3/3/1962</td>\n",
       "      <td>M</td>\n",
       "      <td>AZ</td>\n",
       "      <td>6</td>\n",
       "      <td>Republican</td>\n",
       "      <td>1,252,401</td>\n",
       "      <td>1,161,167</td>\n",
       "      <td>1,025,232</td>\n",
       "      <td>1,233,654</td>\n",
       "    </tr>\n",
       "    <tr>\n",
       "      <th>548996</th>\n",
       "      <td>1.082280e+18</td>\n",
       "      <td>RepSeanMaloney</td>\n",
       "      <td>2019-01-07T09:33:39-05:00</td>\n",
       "      <td>Are we supposed to take Trump seriously or lit...</td>\n",
       "      <td>Sean Patrick Maloney</td>\n",
       "      <td>Rep</td>\n",
       "      <td>3-Jan-13</td>\n",
       "      <td>7/30/1966</td>\n",
       "      <td>M</td>\n",
       "      <td>NY</td>\n",
       "      <td>18</td>\n",
       "      <td>Democrat</td>\n",
       "      <td>2,819,533</td>\n",
       "      <td>4,556,118</td>\n",
       "      <td>4,485,741</td>\n",
       "      <td>2,490,431</td>\n",
       "    </tr>\n",
       "    <tr>\n",
       "      <th>652347</th>\n",
       "      <td>1.322270e+18</td>\n",
       "      <td>RepSteveChabot</td>\n",
       "      <td>2020-10-30T16:24:14-04:00</td>\n",
       "      <td>Thank you to Lieutenant Mike Tarr and Fire Chi...</td>\n",
       "      <td>Steve Chabot</td>\n",
       "      <td>Rep</td>\n",
       "      <td>3-Jan-11</td>\n",
       "      <td>1/22/1953</td>\n",
       "      <td>M</td>\n",
       "      <td>OH</td>\n",
       "      <td>1</td>\n",
       "      <td>Republican</td>\n",
       "      <td>2,841,005</td>\n",
       "      <td>2,394,164</td>\n",
       "      <td>2,827,709</td>\n",
       "      <td>2,661,437</td>\n",
       "    </tr>\n",
       "    <tr>\n",
       "      <th>267614</th>\n",
       "      <td>1.103730e+18</td>\n",
       "      <td>SenatorRisch</td>\n",
       "      <td>2019-03-07T13:33:23-05:00</td>\n",
       "      <td>Made remarks to @AmFreeSyria sharing my concer...</td>\n",
       "      <td>Jim Risch</td>\n",
       "      <td>Sen</td>\n",
       "      <td>3-Jan-09</td>\n",
       "      <td>5/3/1943</td>\n",
       "      <td>M</td>\n",
       "      <td>ID</td>\n",
       "      <td>Senate</td>\n",
       "      <td>Republican</td>\n",
       "      <td>409,055</td>\n",
       "      <td>189,765</td>\n",
       "      <td>212,787</td>\n",
       "      <td>420,911</td>\n",
       "    </tr>\n",
       "    <tr>\n",
       "      <th>344386</th>\n",
       "      <td>1.097350e+18</td>\n",
       "      <td>RepThomasMassie</td>\n",
       "      <td>2019-02-17T23:35:06-05:00</td>\n",
       "      <td>@jeroneanderson @MontcoLP @LelandShow @realDon...</td>\n",
       "      <td>Thomas Massie</td>\n",
       "      <td>Rep</td>\n",
       "      <td>13-Nov-12</td>\n",
       "      <td>1/13/1971</td>\n",
       "      <td>M</td>\n",
       "      <td>KY</td>\n",
       "      <td>4</td>\n",
       "      <td>Republican</td>\n",
       "      <td>1,202,971</td>\n",
       "      <td>628,854</td>\n",
       "      <td>679,370</td>\n",
       "      <td>1,087,190</td>\n",
       "    </tr>\n",
       "    <tr>\n",
       "      <th>883815</th>\n",
       "      <td>1.299790e+18</td>\n",
       "      <td>RepDonBeyer</td>\n",
       "      <td>2020-08-29T15:08:50-04:00</td>\n",
       "      <td>RT @JECDems Racial disparities are at the hear...</td>\n",
       "      <td>Don Beyer</td>\n",
       "      <td>Rep</td>\n",
       "      <td>3-Jan-15</td>\n",
       "      <td>6/20/1950</td>\n",
       "      <td>M</td>\n",
       "      <td>VA</td>\n",
       "      <td>8</td>\n",
       "      <td>Democrat</td>\n",
       "      <td>1,769,443</td>\n",
       "      <td>1,981,473</td>\n",
       "      <td>1,971,820</td>\n",
       "      <td>1,822,522</td>\n",
       "    </tr>\n",
       "    <tr>\n",
       "      <th>834593</th>\n",
       "      <td>1.317530e+18</td>\n",
       "      <td>JohnCornyn</td>\n",
       "      <td>2020-10-17T14:35:28-04:00</td>\n",
       "      <td>RT @CBPMarkMorgan Early this morning, USBP age...</td>\n",
       "      <td>John Cornyn</td>\n",
       "      <td>Sen</td>\n",
       "      <td>2-Dec-02</td>\n",
       "      <td>2/2/1952</td>\n",
       "      <td>M</td>\n",
       "      <td>TX</td>\n",
       "      <td>Senate</td>\n",
       "      <td>Republican</td>\n",
       "      <td>4,685,047</td>\n",
       "      <td>3,877,868</td>\n",
       "      <td>3,308,124</td>\n",
       "      <td>4,569,843</td>\n",
       "    </tr>\n",
       "    <tr>\n",
       "      <th>895281</th>\n",
       "      <td>1.125470e+18</td>\n",
       "      <td>PattyMurray</td>\n",
       "      <td>2019-05-06T14:25:00-04:00</td>\n",
       "      <td>Grateful for our servicemembers in Washington ...</td>\n",
       "      <td>Patty Murray</td>\n",
       "      <td>Sen</td>\n",
       "      <td>3-Jan-17</td>\n",
       "      <td>10/11/1950</td>\n",
       "      <td>F</td>\n",
       "      <td>WA</td>\n",
       "      <td>Senate</td>\n",
       "      <td>Democrat</td>\n",
       "      <td>1,221,747</td>\n",
       "      <td>1,742,718</td>\n",
       "      <td>1,755,396</td>\n",
       "      <td>1,290,670</td>\n",
       "    </tr>\n",
       "    <tr>\n",
       "      <th>460421</th>\n",
       "      <td>1.295440e+18</td>\n",
       "      <td>SenatorWicker</td>\n",
       "      <td>2020-08-17T15:19:36-04:00</td>\n",
       "      <td>Americans have been deeply disturbed by the ch...</td>\n",
       "      <td>Roger Wicker</td>\n",
       "      <td>Sen</td>\n",
       "      <td>31-Dec-07</td>\n",
       "      <td>7/5/1951</td>\n",
       "      <td>M</td>\n",
       "      <td>MS</td>\n",
       "      <td>Senate</td>\n",
       "      <td>Republican</td>\n",
       "      <td>700,714</td>\n",
       "      <td>485,131</td>\n",
       "      <td>562,949</td>\n",
       "      <td>710,746</td>\n",
       "    </tr>\n",
       "    <tr>\n",
       "      <th>585652</th>\n",
       "      <td>1.242130e+18</td>\n",
       "      <td>RepSeanMaloney</td>\n",
       "      <td>2020-03-23T12:45:45-04:00</td>\n",
       "      <td>We can't sit around and wait for this virus to...</td>\n",
       "      <td>Sean Patrick Maloney</td>\n",
       "      <td>Rep</td>\n",
       "      <td>3-Jan-13</td>\n",
       "      <td>7/30/1966</td>\n",
       "      <td>M</td>\n",
       "      <td>NY</td>\n",
       "      <td>18</td>\n",
       "      <td>Democrat</td>\n",
       "      <td>2,819,533</td>\n",
       "      <td>4,556,118</td>\n",
       "      <td>4,485,741</td>\n",
       "      <td>2,490,431</td>\n",
       "    </tr>\n",
       "    <tr>\n",
       "      <th>58052</th>\n",
       "      <td>1.088520e+18</td>\n",
       "      <td>NormaJTorres</td>\n",
       "      <td>2019-01-24T14:15:55-05:00</td>\n",
       "      <td>Did I mention @JoeBiden is on our flight? I’m ...</td>\n",
       "      <td>Norma Torres</td>\n",
       "      <td>Rep</td>\n",
       "      <td>3-Jan-15</td>\n",
       "      <td>4/4/1965</td>\n",
       "      <td>F</td>\n",
       "      <td>CA</td>\n",
       "      <td>35</td>\n",
       "      <td>Democrat</td>\n",
       "      <td>4,483,814</td>\n",
       "      <td>8,753,792</td>\n",
       "      <td>7,854,285</td>\n",
       "      <td>4,839,958</td>\n",
       "    </tr>\n",
       "    <tr>\n",
       "      <th>923372</th>\n",
       "      <td>1.193180e+18</td>\n",
       "      <td>Sen_JoeManchin</td>\n",
       "      <td>2019-11-09T09:43:00-05:00</td>\n",
       "      <td>#ICYMI: Watch my announcement of the Bipartisa...</td>\n",
       "      <td>Joe Manchin</td>\n",
       "      <td>Sen</td>\n",
       "      <td>15-Nov-10</td>\n",
       "      <td>8/24/1947</td>\n",
       "      <td>M</td>\n",
       "      <td>WV</td>\n",
       "      <td>Senate</td>\n",
       "      <td>Democrat</td>\n",
       "      <td>489,371</td>\n",
       "      <td>188,794</td>\n",
       "      <td>238,269</td>\n",
       "      <td>417,655</td>\n",
       "    </tr>\n",
       "    <tr>\n",
       "      <th>338915</th>\n",
       "      <td>1.129050e+18</td>\n",
       "      <td>SenPatRoberts</td>\n",
       "      <td>2019-05-16T11:55:01-04:00</td>\n",
       "      <td>RT @SenateAgGOP #TBT to 1992 when #Kansas #FFA...</td>\n",
       "      <td>Pat Roberts</td>\n",
       "      <td>Sen</td>\n",
       "      <td>3-Jan-97</td>\n",
       "      <td>4/20/1936</td>\n",
       "      <td>M</td>\n",
       "      <td>KS</td>\n",
       "      <td>Senate</td>\n",
       "      <td>Republican</td>\n",
       "      <td>671,018</td>\n",
       "      <td>427,005</td>\n",
       "      <td>440,726</td>\n",
       "      <td>692,634</td>\n",
       "    </tr>\n",
       "    <tr>\n",
       "      <th>617622</th>\n",
       "      <td>1.254890e+18</td>\n",
       "      <td>RepRichHudson</td>\n",
       "      <td>2020-04-27T17:49:25-04:00</td>\n",
       "      <td>RT @CLTMotorSpdwy Happy birthday @austindillon...</td>\n",
       "      <td>Richard Hudson</td>\n",
       "      <td>Rep</td>\n",
       "      <td>3-Jan-13</td>\n",
       "      <td>11/4/1971</td>\n",
       "      <td>M</td>\n",
       "      <td>NC</td>\n",
       "      <td>8</td>\n",
       "      <td>Republican</td>\n",
       "      <td>2,362,631</td>\n",
       "      <td>2,189,316</td>\n",
       "      <td>2,178,391</td>\n",
       "      <td>2,270,395</td>\n",
       "    </tr>\n",
       "    <tr>\n",
       "      <th>514891</th>\n",
       "      <td>1.187370e+18</td>\n",
       "      <td>BillPascrell</td>\n",
       "      <td>2019-10-24T10:00:32-04:00</td>\n",
       "      <td>This is extraordinary. The NY state bar has ca...</td>\n",
       "      <td>Bill Pascrell</td>\n",
       "      <td>Rep</td>\n",
       "      <td>3-Jan-13</td>\n",
       "      <td>1/25/1937</td>\n",
       "      <td>M</td>\n",
       "      <td>NJ</td>\n",
       "      <td>9</td>\n",
       "      <td>Democrat</td>\n",
       "      <td>1,601,933</td>\n",
       "      <td>2,148,278</td>\n",
       "      <td>2,125,101</td>\n",
       "      <td>1,477,568</td>\n",
       "    </tr>\n",
       "    <tr>\n",
       "      <th>577238</th>\n",
       "      <td>1.208820e+18</td>\n",
       "      <td>SenSchumer</td>\n",
       "      <td>2019-12-22T13:32:57-05:00</td>\n",
       "      <td>If there is nothing wrong with withholding the...</td>\n",
       "      <td>Chuck Schumer</td>\n",
       "      <td>Sen</td>\n",
       "      <td>3-Jan-17</td>\n",
       "      <td>11/23/1950</td>\n",
       "      <td>M</td>\n",
       "      <td>NY</td>\n",
       "      <td>Senate</td>\n",
       "      <td>Democrat</td>\n",
       "      <td>2,819,533</td>\n",
       "      <td>4,556,118</td>\n",
       "      <td>4,485,741</td>\n",
       "      <td>2,490,431</td>\n",
       "    </tr>\n",
       "    <tr>\n",
       "      <th>501693</th>\n",
       "      <td>1.327370e+18</td>\n",
       "      <td>SenatorShaheen</td>\n",
       "      <td>2020-11-13T17:15:57-05:00</td>\n",
       "      <td>.@StateDept – despite efforts to downplay the ...</td>\n",
       "      <td>Jeanne Shaheen</td>\n",
       "      <td>Sen</td>\n",
       "      <td>3-Jan-09</td>\n",
       "      <td>1/28/1947</td>\n",
       "      <td>F</td>\n",
       "      <td>NH</td>\n",
       "      <td>Senate</td>\n",
       "      <td>Democrat</td>\n",
       "      <td>345,790</td>\n",
       "      <td>348,526</td>\n",
       "      <td>369,561</td>\n",
       "      <td>329,918</td>\n",
       "    </tr>\n",
       "    <tr>\n",
       "      <th>844815</th>\n",
       "      <td>1.186700e+18</td>\n",
       "      <td>SenMikeLee</td>\n",
       "      <td>2019-10-22T13:39:45-04:00</td>\n",
       "      <td>Great meeting with @alexisohanian and @PaidLea...</td>\n",
       "      <td>Mike Lee</td>\n",
       "      <td>Sen</td>\n",
       "      <td>3-Jan-19</td>\n",
       "      <td>6/4/1971</td>\n",
       "      <td>M</td>\n",
       "      <td>UT</td>\n",
       "      <td>Senate</td>\n",
       "      <td>Republican</td>\n",
       "      <td>515,231</td>\n",
       "      <td>310,676</td>\n",
       "      <td>251,813</td>\n",
       "      <td>740,600</td>\n",
       "    </tr>\n",
       "    <tr>\n",
       "      <th>675169</th>\n",
       "      <td>1.086360e+18</td>\n",
       "      <td>CongBoyle</td>\n",
       "      <td>2019-01-18T15:28:06-05:00</td>\n",
       "      <td>RT @WaysMeansCmte January 2019: Mnuchin refuse...</td>\n",
       "      <td>Brendan Boyle</td>\n",
       "      <td>Rep</td>\n",
       "      <td>3-Jan-15</td>\n",
       "      <td>2/6/1977</td>\n",
       "      <td>M</td>\n",
       "      <td>PA</td>\n",
       "      <td>2</td>\n",
       "      <td>Democrat</td>\n",
       "      <td>2,970,733</td>\n",
       "      <td>2,926,441</td>\n",
       "      <td>2,990,274</td>\n",
       "      <td>2,680,434</td>\n",
       "    </tr>\n",
       "    <tr>\n",
       "      <th>400565</th>\n",
       "      <td>1.226600e+18</td>\n",
       "      <td>RepLoriTrahan</td>\n",
       "      <td>2020-02-09T15:24:04-05:00</td>\n",
       "      <td>#ValentinesDay is coming up! Join me in thanki...</td>\n",
       "      <td>Lori Trahan</td>\n",
       "      <td>Rep</td>\n",
       "      <td>3-Jan-19</td>\n",
       "      <td>10/27/1973</td>\n",
       "      <td>F</td>\n",
       "      <td>MA</td>\n",
       "      <td>3</td>\n",
       "      <td>Democrat</td>\n",
       "      <td>1,090,893</td>\n",
       "      <td>1,995,196</td>\n",
       "      <td>1,921,290</td>\n",
       "      <td>1,188,314</td>\n",
       "    </tr>\n",
       "  </tbody>\n",
       "</table>\n",
       "</div>"
      ],
      "text/plain": [
       "            tweet_id      screen_name                   datetime  \\\n",
       "36257   1.276160e+18         RepDavid  2020-06-25T10:22:13-04:00   \n",
       "548996  1.082280e+18   RepSeanMaloney  2019-01-07T09:33:39-05:00   \n",
       "652347  1.322270e+18   RepSteveChabot  2020-10-30T16:24:14-04:00   \n",
       "267614  1.103730e+18     SenatorRisch  2019-03-07T13:33:23-05:00   \n",
       "344386  1.097350e+18  RepThomasMassie  2019-02-17T23:35:06-05:00   \n",
       "883815  1.299790e+18      RepDonBeyer  2020-08-29T15:08:50-04:00   \n",
       "834593  1.317530e+18       JohnCornyn  2020-10-17T14:35:28-04:00   \n",
       "895281  1.125470e+18      PattyMurray  2019-05-06T14:25:00-04:00   \n",
       "460421  1.295440e+18    SenatorWicker  2020-08-17T15:19:36-04:00   \n",
       "585652  1.242130e+18   RepSeanMaloney  2020-03-23T12:45:45-04:00   \n",
       "58052   1.088520e+18     NormaJTorres  2019-01-24T14:15:55-05:00   \n",
       "923372  1.193180e+18   Sen_JoeManchin  2019-11-09T09:43:00-05:00   \n",
       "338915  1.129050e+18    SenPatRoberts  2019-05-16T11:55:01-04:00   \n",
       "617622  1.254890e+18    RepRichHudson  2020-04-27T17:49:25-04:00   \n",
       "514891  1.187370e+18     BillPascrell  2019-10-24T10:00:32-04:00   \n",
       "577238  1.208820e+18       SenSchumer  2019-12-22T13:32:57-05:00   \n",
       "501693  1.327370e+18   SenatorShaheen  2020-11-13T17:15:57-05:00   \n",
       "844815  1.186700e+18       SenMikeLee  2019-10-22T13:39:45-04:00   \n",
       "675169  1.086360e+18        CongBoyle  2019-01-18T15:28:06-05:00   \n",
       "400565  1.226600e+18    RepLoriTrahan  2020-02-09T15:24:04-05:00   \n",
       "\n",
       "                                                     text  \\\n",
       "36257   Before adopting Olivia, we spent a great amoun...   \n",
       "548996  Are we supposed to take Trump seriously or lit...   \n",
       "652347  Thank you to Lieutenant Mike Tarr and Fire Chi...   \n",
       "267614  Made remarks to @AmFreeSyria sharing my concer...   \n",
       "344386  @jeroneanderson @MontcoLP @LelandShow @realDon...   \n",
       "883815  RT @JECDems Racial disparities are at the hear...   \n",
       "834593  RT @CBPMarkMorgan Early this morning, USBP age...   \n",
       "895281  Grateful for our servicemembers in Washington ...   \n",
       "460421  Americans have been deeply disturbed by the ch...   \n",
       "585652  We can't sit around and wait for this virus to...   \n",
       "58052   Did I mention @JoeBiden is on our flight? I’m ...   \n",
       "923372  #ICYMI: Watch my announcement of the Bipartisa...   \n",
       "338915  RT @SenateAgGOP #TBT to 1992 when #Kansas #FFA...   \n",
       "617622  RT @CLTMotorSpdwy Happy birthday @austindillon...   \n",
       "514891  This is extraordinary. The NY state bar has ca...   \n",
       "577238  If there is nothing wrong with withholding the...   \n",
       "501693  .@StateDept – despite efforts to downplay the ...   \n",
       "844815  Great meeting with @alexisohanian and @PaidLea...   \n",
       "675169  RT @WaysMeansCmte January 2019: Mnuchin refuse...   \n",
       "400565  #ValentinesDay is coming up! Join me in thanki...   \n",
       "\n",
       "              name_wikipedia position joined_congress_date    birthday gender  \\\n",
       "36257       David Schweikert      Rep             3-Jan-13    3/3/1962      M   \n",
       "548996  Sean Patrick Maloney      Rep             3-Jan-13   7/30/1966      M   \n",
       "652347          Steve Chabot      Rep             3-Jan-11   1/22/1953      M   \n",
       "267614             Jim Risch      Sen             3-Jan-09    5/3/1943      M   \n",
       "344386         Thomas Massie      Rep            13-Nov-12   1/13/1971      M   \n",
       "883815             Don Beyer      Rep             3-Jan-15   6/20/1950      M   \n",
       "834593           John Cornyn      Sen             2-Dec-02    2/2/1952      M   \n",
       "895281          Patty Murray      Sen             3-Jan-17  10/11/1950      F   \n",
       "460421          Roger Wicker      Sen            31-Dec-07    7/5/1951      M   \n",
       "585652  Sean Patrick Maloney      Rep             3-Jan-13   7/30/1966      M   \n",
       "58052           Norma Torres      Rep             3-Jan-15    4/4/1965      F   \n",
       "923372           Joe Manchin      Sen            15-Nov-10   8/24/1947      M   \n",
       "338915           Pat Roberts      Sen             3-Jan-97   4/20/1936      M   \n",
       "617622        Richard Hudson      Rep             3-Jan-13   11/4/1971      M   \n",
       "514891         Bill Pascrell      Rep             3-Jan-13   1/25/1937      M   \n",
       "577238         Chuck Schumer      Sen             3-Jan-17  11/23/1950      M   \n",
       "501693        Jeanne Shaheen      Sen             3-Jan-09   1/28/1947      F   \n",
       "844815              Mike Lee      Sen             3-Jan-19    6/4/1971      M   \n",
       "675169         Brendan Boyle      Rep             3-Jan-15    2/6/1977      M   \n",
       "400565           Lori Trahan      Rep             3-Jan-19  10/27/1973      F   \n",
       "\n",
       "       state district_number       party trump_2016_state_share  \\\n",
       "36257     AZ               6  Republican              1,252,401   \n",
       "548996    NY              18    Democrat              2,819,533   \n",
       "652347    OH               1  Republican              2,841,005   \n",
       "267614    ID          Senate  Republican                409,055   \n",
       "344386    KY               4  Republican              1,202,971   \n",
       "883815    VA               8    Democrat              1,769,443   \n",
       "834593    TX          Senate  Republican              4,685,047   \n",
       "895281    WA          Senate    Democrat              1,221,747   \n",
       "460421    MS          Senate  Republican                700,714   \n",
       "585652    NY              18    Democrat              2,819,533   \n",
       "58052     CA              35    Democrat              4,483,814   \n",
       "923372    WV          Senate    Democrat                489,371   \n",
       "338915    KS          Senate  Republican                671,018   \n",
       "617622    NC               8  Republican              2,362,631   \n",
       "514891    NJ               9    Democrat              1,601,933   \n",
       "577238    NY          Senate    Democrat              2,819,533   \n",
       "501693    NH          Senate    Democrat                345,790   \n",
       "844815    UT          Senate  Republican                515,231   \n",
       "675169    PA               2    Democrat              2,970,733   \n",
       "400565    MA               3    Democrat              1,090,893   \n",
       "\n",
       "       clinton_2016_state_share obama_2012_state_share romney_2012_state_share  \n",
       "36257                 1,161,167              1,025,232               1,233,654  \n",
       "548996                4,556,118              4,485,741               2,490,431  \n",
       "652347                2,394,164              2,827,709               2,661,437  \n",
       "267614                  189,765                212,787                 420,911  \n",
       "344386                  628,854                679,370               1,087,190  \n",
       "883815                1,981,473              1,971,820               1,822,522  \n",
       "834593                3,877,868              3,308,124               4,569,843  \n",
       "895281                1,742,718              1,755,396               1,290,670  \n",
       "460421                  485,131                562,949                 710,746  \n",
       "585652                4,556,118              4,485,741               2,490,431  \n",
       "58052                 8,753,792              7,854,285               4,839,958  \n",
       "923372                  188,794                238,269                 417,655  \n",
       "338915                  427,005                440,726                 692,634  \n",
       "617622                2,189,316              2,178,391               2,270,395  \n",
       "514891                2,148,278              2,125,101               1,477,568  \n",
       "577238                4,556,118              4,485,741               2,490,431  \n",
       "501693                  348,526                369,561                 329,918  \n",
       "844815                  310,676                251,813                 740,600  \n",
       "675169                2,926,441              2,990,274               2,680,434  \n",
       "400565                1,995,196              1,921,290               1,188,314  "
      ]
     },
     "execution_count": 22,
     "metadata": {},
     "output_type": "execute_result"
    }
   ],
   "source": [
    "# load data \n",
    "# ----------\n",
    "congress_tweets = pd.read_csv(\"../../data/116th Congressional Tweets and Demographics.csv\")\n",
    "# fill in this line of code with a sufficient number of tweets, depending on your computational resources\n",
    "congress_tweets = congress_tweets.sample(n=10000, replace = False, random_state = 10)\n",
    "congress_tweets.head(20)"
   ]
  },
  {
   "cell_type": "markdown",
   "metadata": {},
   "source": [
    "## Preprocessing"
   ]
  },
  {
   "cell_type": "markdown",
   "metadata": {},
   "source": [
    "The first step in working with text data is to preprocess it. Make sure you do the following:\n",
    "\n",
    "* Remove punctuation and stop words. The `rem_punc_stop()` function we used in lab is provided to you but you should feel free to edit it as necessary for other steps\n",
    "* Remove tokens that occur frequently in tweets, but may not be helpful for downstream classification. For instance, many tweets contain a flag for retweeting, or share a URL \n",
    "\n",
    "As you search online, you might run into solutions that rely on regular expressions. You are free to use these, but you should also be able to preprocess using the techniques we covered in lab. Specifically, we encourage you to use spaCy's token attributes and string methods to do some of this text preprocessing."
   ]
  },
  {
   "cell_type": "code",
   "execution_count": 20,
   "metadata": {},
   "outputs": [],
   "source": [
    "def rem_punc_stop(text):\n",
    "    stop_words = STOP_WORDS\n",
    "    punc = set(punctuation)\n",
    "    \n",
    "    punc_free = \"\".join([ch for ch in text if ch not in punc])\n",
    "    \n",
    "    doc = nlp(punc_free)\n",
    "    \n",
    "    spacy_words = [token.text for token in doc]\n",
    "    \n",
    "    spacy_words = [word for word in spacy_words if not (word.startswith('http') or word == 'RT')]\n",
    "    \n",
    "    no_punc = [word for word in spacy_words if word not in stop_words]\n",
    "    \n",
    "    return no_punc"
   ]
  },
  {
   "cell_type": "code",
   "execution_count": 21,
   "metadata": {},
   "outputs": [
    {
     "data": {
      "text/plain": [
       "36257     [Before, adopting, Olivia, spent, great, time,...\n",
       "548996    [Are, supposed, Trump, seriously, literally, s...\n",
       "652347    [Thank, Lieutenant, Mike, Tarr, Fire, Chief, O...\n",
       "267614    [Made, remarks, AmFreeSyria, sharing, concern,...\n",
       "344386    [jeroneanderson, MontcoLP, LelandShow, realDon...\n",
       "                                ...                        \n",
       "337933    [Kansans, aware, continued, winter, weather, w...\n",
       "344441    [SenateMajLdr, McConnell, Comments, Kentucky, ...\n",
       "411565    [MichelleBrane, We, said, beginning, administr...\n",
       "789238    [More, proof, partisan, impeachment, inquisiti...\n",
       "294640    [ReadyIllinois, What, social, distancing, \\n, ...\n",
       "Name: tokens, Length: 10000, dtype: object"
      ]
     },
     "execution_count": 21,
     "metadata": {},
     "output_type": "execute_result"
    }
   ],
   "source": [
    "#applying rem_punc_stop to dataset\n",
    "\n",
    "congress_tweets['tokens'] = congress_tweets['text'].map(lambda x: rem_punc_stop(x))\n",
    "congress_tweets['tokens']"
   ]
  },
  {
   "cell_type": "code",
   "execution_count": 13,
   "metadata": {},
   "outputs": [
    {
     "data": {
      "text/plain": [
       "36257     [Before, adopting, Olivia, spent, great, time,...\n",
       "548996    [Are, supposed, Trump, seriously, literally, s...\n",
       "652347    [Thank, Lieutenant, Mike, Tarr, Fire, Chief, O...\n",
       "267614    [Made, remarks, AmFreeSyria, sharing, concern,...\n",
       "344386    [jeroneanderson, MontcoLP, LelandShow, realDon...\n",
       "                                ...                        \n",
       "337933    [Kansans, aware, continued, winter, weather, w...\n",
       "344441    [SenateMajLdr, McConnell, Comments, Kentucky, ...\n",
       "411565    [RT, MichelleBrane, We, said, beginning, admin...\n",
       "789238    [More, proof, partisan, impeachment, inquisiti...\n",
       "294640    [RT, ReadyIllinois, What, social, distancing, ...\n",
       "Name: tokens, Length: 10000, dtype: object"
      ]
     },
     "execution_count": 13,
     "metadata": {},
     "output_type": "execute_result"
    }
   ],
   "source": []
  },
  {
   "cell_type": "markdown",
   "metadata": {},
   "source": [
    "## PART 2: Exploratory Data Analysis"
   ]
  },
  {
   "cell_type": "markdown",
   "metadata": {},
   "source": [
    "Use two of the techniques we covered in lab (or other techniques outside of lab!) to explore the text of the tweets. You should construct these visualizations with an eye toward the eventual classification tasks: (1) predicting the legislator's political party based on the text of their tweet, and (2) predicting whether the legislator is a Senator or Representative. As a reminder, in lab we covered word frequencies, word clouds, word/character counts, scattertext, and topic modeling as possible exploration tools. "
   ]
  },
  {
   "cell_type": "markdown",
   "metadata": {},
   "source": [
    "### EDA 1"
   ]
  },
  {
   "cell_type": "code",
   "execution_count": null,
   "metadata": {},
   "outputs": [],
   "source": [
    "... "
   ]
  },
  {
   "cell_type": "markdown",
   "metadata": {},
   "source": [
    "### EDA 2"
   ]
  },
  {
   "cell_type": "code",
   "execution_count": null,
   "metadata": {},
   "outputs": [],
   "source": [
    "..."
   ]
  },
  {
   "cell_type": "markdown",
   "metadata": {},
   "source": [
    "## Sentiment Analysis"
   ]
  },
  {
   "cell_type": "markdown",
   "metadata": {},
   "source": [
    "Next, let's analyze the sentiments contained within the tweets. You may use TextBlob or another library for these tasks. Do the following:\n",
    "\n",
    "* Choose two legislators, one who you think will be more liberal and one who you think will be more conservative, and analyze their sentiment and/or subjectivity scores per tweet. For instance, you might do two scatterplots that plot each legislator's sentiment against their subjectivity, or two density plots for their sentiments. Do the scores match what you thought?\n",
    "* Plot two more visualizations like the ones you chose in the first part, but do them to compare (1) Democrats v. Republicans and (2) Senators v. Representatives \n",
    "\n",
    "`TextBlob` has already been imported in the top cell."
   ]
  },
  {
   "cell_type": "code",
   "execution_count": null,
   "metadata": {},
   "outputs": [],
   "source": [
    "..."
   ]
  },
  {
   "cell_type": "markdown",
   "metadata": {},
   "source": [
    "## Featurization"
   ]
  },
  {
   "cell_type": "markdown",
   "metadata": {},
   "source": [
    "Before going to classification, explore different featurization techniques. Create three dataframes or arrays to represent your text features, specifically:\n",
    "\n",
    "* Features engineered from your previous analysis. For example, word counts, sentiment scores, topic model etc.\n",
    "* A term frequency-inverse document frequency matrix. \n",
    "* An embedding-based featurization (like a document averaged word2vec)\n",
    "\n",
    "In the next section, you will experiment with each of these featurization techniques to see which one produces the best classifications."
   ]
  },
  {
   "cell_type": "code",
   "execution_count": null,
   "metadata": {},
   "outputs": [],
   "source": [
    "..."
   ]
  },
  {
   "cell_type": "markdown",
   "metadata": {},
   "source": [
    "### Engineered Text Features"
   ]
  },
  {
   "cell_type": "code",
   "execution_count": null,
   "metadata": {},
   "outputs": [],
   "source": [
    "# Engineered Features\n",
    "..."
   ]
  },
  {
   "cell_type": "markdown",
   "metadata": {},
   "source": [
    "### Bag-of-words or Tf-idf"
   ]
  },
  {
   "cell_type": "code",
   "execution_count": null,
   "metadata": {},
   "outputs": [],
   "source": [
    "# Frequency Based featurization\n",
    "..."
   ]
  },
  {
   "cell_type": "markdown",
   "metadata": {},
   "source": [
    "### Word Embedding"
   ]
  },
  {
   "cell_type": "code",
   "execution_count": null,
   "metadata": {},
   "outputs": [],
   "source": [
    "# Load Word2Vec model from Google; OPTIONAL depending on your computational resources (the file is ~1 GB)\n",
    "# Also note that this file path assumes that the word vectors are underneath 'data'; you may wish to point to the CSS course repo and change the path\n",
    "# or move the vector file to the project repo \n",
    "\n",
    "#model = gensim.models.KeyedVectors.load_word2vec_format('data/GoogleNews-vectors-negative300.bin.gz', binary = True) "
   ]
  },
  {
   "cell_type": "code",
   "execution_count": null,
   "metadata": {},
   "outputs": [],
   "source": [
    "# Function to average word embeddings for a document; use examples from lab to apply this function. You can use also other techniques such as PCA and doc2vec instead.\n",
    "def document_vector(word2vec_model, doc):\n",
    "    doc = [word for word in doc if word in model.vocab]\n",
    "    return np.mean(model[doc], axis=0)"
   ]
  },
  {
   "cell_type": "code",
   "execution_count": null,
   "metadata": {},
   "outputs": [],
   "source": [
    "# embedding based featurization\n",
    "..."
   ]
  },
  {
   "cell_type": "markdown",
   "metadata": {},
   "source": [
    "## Classification"
   ]
  },
  {
   "cell_type": "markdown",
   "metadata": {},
   "source": [
    "Either use cross-validation or partition your data with training/validation/test sets for this section. Do the following:\n",
    "\n",
    "* Choose a supervised learning algorithm such as logistic regression, random forest etc. \n",
    "* Train six models. For each of the three dataframes you created in the featurization part, train one model to predict whether the author of the tweet is a Democrat or Republican, and a second model to predict whether the author is a Senator or Representative.\n",
    "* Report the accuracy and other relevant metrics for each of these six models.\n",
    "* Choose the featurization technique associated with your best model. Combine those text features with non-text features. Train two more models: (1) A supervised learning algorithm that uses just the non-text features and (2) a supervised learning algorithm that combines text and non-text features. Report accuracy and other relevant metrics. \n",
    "\n",
    "If time permits, you are encouraged to use hyperparameter tuning or AutoML techniques like TPOT, but are not explicitly required to do so."
   ]
  },
  {
   "cell_type": "markdown",
   "metadata": {},
   "source": [
    "### Train Six Models with Just Text"
   ]
  },
  {
   "cell_type": "code",
   "execution_count": null,
   "metadata": {},
   "outputs": [],
   "source": [
    "# six models ([engineered features, frequency-based, embedding] * [democrat/republican, senator/representative])\n",
    "..."
   ]
  },
  {
   "cell_type": "markdown",
   "metadata": {},
   "source": [
    "### Two Combined Models"
   ]
  },
  {
   "cell_type": "code",
   "execution_count": null,
   "metadata": {},
   "outputs": [],
   "source": [
    "# two models ([best text features + non-text features] * [democrat/republican, senator/representative])\n",
    "..."
   ]
  },
  {
   "cell_type": "markdown",
   "metadata": {},
   "source": [
    "## Discussion Questions"
   ]
  },
  {
   "cell_type": "markdown",
   "metadata": {},
   "source": [
    "1. Why do standard preprocessing techniques need to be further customized to a particular corpus?"
   ]
  },
  {
   "cell_type": "markdown",
   "metadata": {},
   "source": [
    "**YOUR ANSWER HERE** ..."
   ]
  },
  {
   "cell_type": "markdown",
   "metadata": {},
   "source": [
    "2. Did you find evidence for the idea that Democrats and Republicans have different sentiments in their tweets? What about Senators and Representatives?"
   ]
  },
  {
   "cell_type": "markdown",
   "metadata": {},
   "source": [
    "**YOUR ANSWER HERE** ..."
   ]
  },
  {
   "cell_type": "markdown",
   "metadata": {},
   "source": [
    "3. Why is validating your exploratory and unsupervised learning approaches with a supervised learning algorithm valuable?"
   ]
  },
  {
   "cell_type": "markdown",
   "metadata": {},
   "source": [
    "**YOUR ANSWER HERE** ..."
   ]
  },
  {
   "cell_type": "markdown",
   "metadata": {},
   "source": [
    "4. Did text only, non-text only, or text and non-text features together perform the best? What is the intuition behind combining text and non-text features in a supervised learning algorithm?"
   ]
  },
  {
   "cell_type": "markdown",
   "metadata": {},
   "source": [
    "**YOUR ANSWER HERE** ..."
   ]
  }
 ],
 "metadata": {
  "kernelspec": {
   "display_name": "Python 3 (ipykernel)",
   "language": "python",
   "name": "python3"
  },
  "language_info": {
   "codemirror_mode": {
    "name": "ipython",
    "version": 3
   },
   "file_extension": ".py",
   "mimetype": "text/x-python",
   "name": "python",
   "nbconvert_exporter": "python",
   "pygments_lexer": "ipython3",
   "version": "3.11.4"
  }
 },
 "nbformat": 4,
 "nbformat_minor": 4
}
